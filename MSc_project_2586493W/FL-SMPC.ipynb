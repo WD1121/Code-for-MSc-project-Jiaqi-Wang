{
 "cells": [
  {
   "cell_type": "code",
   "execution_count": 1,
   "id": "f643e561-d4d6-490e-83ff-90c04d01aba1",
   "metadata": {},
   "outputs": [],
   "source": [
    "import syft as sy\n",
    "import sympc\n",
    "from sympc.session import Session\n",
    "from sympc.session import SessionManager\n",
    "from sympc.tensor import MPCTensor\n",
    "from sympc.protocol import Falcon,FSS\n",
    "import torch\n",
    "import torchvision\n",
    "import torchvision.transforms as transforms\n",
    "import torch.optim as optim\n",
    "import torch.nn.functional as F\n",
    "import torch.nn as nn\n",
    "import os\n",
    "from typing import Any, Dict, List\n",
    "import copy\n",
    "import random\n",
    "import time\n",
    "import numpy as np\n",
    "from tqdm import tqdm\n",
    "import gc"
   ]
  },
  {
   "cell_type": "code",
   "execution_count": 2,
   "id": "629a9f68-1144-4780-90af-26bd511eca41",
   "metadata": {},
   "outputs": [
    {
     "name": "stdout",
     "output_type": "stream",
     "text": [
      "Files already downloaded and verified\n",
      "Files already downloaded and verified\n"
     ]
    }
   ],
   "source": [
    "device = torch.device(\"cuda\" if torch.cuda.is_available() else \"cpu\")\n",
    "torch.cuda.is_available()\n",
    "\n",
    "batch_size =200\n",
    "epochs = 55\n",
    "train_test_split= 0.8\n",
    "lr = 0.001\n",
    "n_client = 70\n",
    "chosen_prob = 0.6\n",
    "local_batch_size = 32\n",
    "local_epochs = 10\n",
    "\n",
    "\n",
    "class Block(nn.Module):\n",
    "  def __init__(self, inchannel, outchannel, res=True,stride=0):\n",
    "    super(Block, self).__init__()\n",
    "    self.res = res     # With or without residual connection\n",
    "    self.left = nn.Sequential(\n",
    "        nn.Conv2d(inchannel, outchannel, kernel_size=3, padding=1, bias=False),\n",
    "        nn.BatchNorm2d(outchannel),\n",
    "        nn.ReLU(inplace=True),\n",
    "        nn.Conv2d(outchannel, outchannel, kernel_size=3, padding=1, bias=False),\n",
    "        nn.BatchNorm2d(outchannel),\n",
    "    )\n",
    "    if stride != 1 or inchannel != outchannel:\n",
    "        self.shortcut = nn.Sequential(\n",
    "            nn.Conv2d(inchannel, outchannel, kernel_size=1, bias=False),\n",
    "            nn.BatchNorm2d(outchannel),\n",
    "        )\n",
    "    else:\n",
    "        self.shortcut = nn.Sequential()\n",
    "\n",
    "    self.relu = nn.Sequential(\n",
    "        nn.ReLU(inplace=True),\n",
    "    )\n",
    "\n",
    "  def forward(self, x):\n",
    "    out = self.left(x)\n",
    "    if self.res:\n",
    "        out += self.shortcut(x)\n",
    "    out = self.relu(out)\n",
    "    return out\n",
    "\n",
    "\n",
    "class Resnet(nn.Module):\n",
    "  def __init__(self, cfg=[64, 'M', 128,  'M', 256, 'M', 512, 'M'], res=True):\n",
    "      super(Resnet, self).__init__()\n",
    "      self.res = res       # With or without residual connection\n",
    "      self.cfg = cfg       # Configuration list\n",
    "      self.inchannel = 3   # Number of initial input channels\n",
    "      self.futures = self.make_layer()\n",
    "      # The full connection layer and classifier after the construction of the convolution layer:\n",
    "      self.classifier = nn.Sequential(nn.Dropout(0.4),            \n",
    "          nn.Linear(4 * 512, 10), )   # fc\n",
    "\n",
    "  def make_layer(self):\n",
    "    layers = []\n",
    "    for v in self.cfg:\n",
    "      if v == 'M':\n",
    "        layers.append(nn.MaxPool2d(kernel_size=2, stride=2))\n",
    "      else:\n",
    "        layers.append(Block(self.inchannel, v, self.res))\n",
    "        self.inchannel = v    # Change the number of input channels to the number of output channels of the previous layer\n",
    "    return nn.Sequential(*layers)\n",
    "\n",
    "  def forward(self, x):\n",
    "    out = self.futures(x)\n",
    "    # view(out.size(0), -1): change tensor size from (N ,H , W) to (N, H*W)\n",
    "    out = out.view(out.size(0), -1)\n",
    "    out = self.classifier(out)\n",
    "    return out\n",
    "\n",
    "\n",
    "class ResNet18(sy.Module):\n",
    "  def __init__(self, torch_ref):\n",
    "    super(ResNet18, self).__init__(torch_ref=torch_ref)\n",
    "    self.model=Resnet()\n",
    "  def forward(self, x):\n",
    "    x = self.model.forward(x.reconstruct().cuda())\n",
    "    return x\n",
    "\n",
    "transform = transforms.Compose([\n",
    "    transforms.ToTensor(),\n",
    "    transforms.Normalize((0.4914,0.4822,0.4465), (0.2023,0.1994,0.2010))\n",
    "])\n",
    "\n",
    "trainset = torchvision.datasets.CIFAR10(root='cifar_data', train=True,\n",
    "                  download=True, transform=transform)\n",
    "testset = torchvision.datasets.CIFAR10(root='cifar_data',\n",
    "                  train=False,\n",
    "                  download=True,\n",
    "                  transform=transform)\n",
    "\n",
    "trainloader = torch.utils.data.DataLoader(trainset,\n",
    "                     batch_size=batch_size,\n",
    "                     shuffle=True)\n",
    "testloader = torch.utils.data.DataLoader(testset,\n",
    "                    batch_size=batch_size,\n",
    "                    shuffle=True)\n",
    "\n",
    "\n",
    "\n",
    "# Get the specified number of clients\n",
    "def get_clients(n_clients):\n",
    "  clients = []\n",
    "  for index in range(n_clients):\n",
    "      clients.append(sy.VirtualMachine(name=\"worker\" + str(index)).get_root_client())\n",
    "  return clients\n",
    "\n",
    "# Divide the data set according to the number of clients\n",
    "def split_send(data, session):\n",
    "  data_pointers = []\n",
    "  split_size = int(len(data) / len(session.parties)) + 1\n",
    "  for index in range(0, len(session.parties)):\n",
    "      ptr = data[index * split_size:index * split_size + split_size].share(session=session)\n",
    "      data_pointers.append(ptr)\n",
    "\n",
    "  return data_pointers\n",
    "\n",
    "def train_model(n_clients,dataloader, protocol=None):\n",
    "\n",
    "  # Get client\n",
    "  parties = get_clients(n_clients)\n",
    "  print(parties)\n",
    "  # Initialize the connection pool according to the number of clients\n",
    "  # if(protocol):\n",
    "  #   session = Session(parties=parties, protocol=protocol)\n",
    "  # else:\n",
    "  #   session = Session(parties=parties)\n",
    "  # SessionManager.setup_mpc(session)\n",
    "  for epoch in tqdm(range(epochs)):\n",
    "    running_loss = 0.0\n",
    "    total_correct = 0\n",
    "    if(protocol):\n",
    "      session = Session(parties=parties, protocol=protocol)\n",
    "    else:\n",
    "      session = Session(parties=parties)\n",
    "    SessionManager.setup_mpc(session)\n",
    "    optimizer.zero_grad()\n",
    "    count=0\n",
    "    for index, (feature, label) in enumerate(dataloader):\n",
    "      \n",
    "      # Split data and send to session\n",
    "      pointers = split_send(feature, session)\n",
    "      # Model encryption\n",
    "      mpc_model = model.share(session)\n",
    "      results = []\n",
    "      # The data set is encrypted and calculated using MPC\n",
    "      for ptr in pointers:\n",
    "        smpc_results = mpc_model(ptr)\n",
    "        results.append(smpc_results)\n",
    "      predictions = torch.cat(results)\n",
    "      # Loss caculation\n",
    "      loss = criterion(predictions, label.cuda())\n",
    "      loss.backward()\n",
    "      optimizer.step()\n",
    "      running_loss += np.round(loss.item(),4)\n",
    "      y_pred_decode = torch.argmax(predictions, dim=1)\n",
    "      total_correct += y_pred_decode.eq(label.cuda()).sum().item()\n",
    "      if index >=100:\n",
    "        break\n",
    "      \n",
    "    acc = total_correct/((index+1)*batch_size)\n",
    "    print(f\"Epoch {epoch}/{epochs}  Loss:{running_loss/batch_size} ,accuracy:{acc}\")\n",
    "    torch.cuda.empty_cache()\n",
    "    test_feature=None\n",
    "    test_label=None\n",
    "    \n",
    "    \n",
    "def test_model(n_clients,dataloader, protocol=None):\n",
    "  parties = get_clients(n_clients)\n",
    "  print(parties)\n",
    "  for epoch in tqdm(range(1)):\n",
    "    total_correct = 0\n",
    "    if(protocol):\n",
    "      session = Session(parties=parties, protocol=protocol)\n",
    "    else:\n",
    "      session = Session(parties=parties)\n",
    "    SessionManager.setup_mpc(session)\n",
    "    optimizer.zero_grad()\n",
    "    for _, (feature, label) in enumerate(dataloader):\n",
    "      \n",
    "      # Split data and send to session\n",
    "      pointers = split_send(feature, session)\n",
    "      # Model encryption\n",
    "      mpc_model = model.share(session)\n",
    "      results = []\n",
    "      # The data set is encrypted and calculated using MPC\n",
    "      for ptr in pointers:\n",
    "        smpc_results = mpc_model(ptr)\n",
    "        results.append(smpc_results)\n",
    "      predictions = torch.cat(results)\n",
    "      y_pred_decode = torch.argmax(predictions, dim=1)\n",
    "      total_correct += y_pred_decode.eq(label.cuda()).sum().item()\n",
    "    acc = total_correct/10000\n",
    "    print(f\"test accuracy:{acc}\")\n",
    "    torch.cuda.empty_cache()\n",
    "    test_feature=None\n",
    "    test_label=None\n",
    "\n",
    "model = ResNet18(torch)\n",
    "model.model.to(device)\n",
    "sympc.module.SKIP_LAYERS_NAME={\"Flatten\",\"Resnet\",\"Small_Model\"}\n",
    "criterion = torch.nn.CrossEntropyLoss()\n",
    "optimizer = torch.optim.SGD(model.parameters(), lr=lr)"
   ]
  },
  {
   "cell_type": "code",
   "execution_count": 3,
   "id": "5e964a1b-985c-4713-9ffc-ad3d250c46c0",
   "metadata": {},
   "outputs": [
    {
     "name": "stdout",
     "output_type": "stream",
     "text": [
      "------------------train------------------------\n",
      "[<VirtualMachineClient: worker0 Client>, <VirtualMachineClient: worker1 Client>, <VirtualMachineClient: worker2 Client>]\n"
     ]
    },
    {
     "name": "stderr",
     "output_type": "stream",
     "text": [
      "  2%|▏         | 1/55 [01:40<1:30:38, 100.71s/it]"
     ]
    },
    {
     "name": "stdout",
     "output_type": "stream",
     "text": [
      "Epoch 0/55  Loss:1.0267425000000001 ,accuracy:0.3613861386138614\n"
     ]
    },
    {
     "name": "stderr",
     "output_type": "stream",
     "text": [
      "  4%|▎         | 2/55 [03:22<1:29:26, 101.25s/it]"
     ]
    },
    {
     "name": "stdout",
     "output_type": "stream",
     "text": [
      "Epoch 1/55  Loss:0.9341705000000001 ,accuracy:0.4226237623762376\n"
     ]
    },
    {
     "name": "stderr",
     "output_type": "stream",
     "text": [
      "  5%|▌         | 3/55 [05:04<1:28:02, 101.60s/it]"
     ]
    },
    {
     "name": "stdout",
     "output_type": "stream",
     "text": [
      "Epoch 2/55  Loss:0.732844 ,accuracy:0.5012376237623762\n"
     ]
    },
    {
     "name": "stderr",
     "output_type": "stream",
     "text": [
      "  7%|▋         | 4/55 [06:45<1:26:09, 101.36s/it]"
     ]
    },
    {
     "name": "stdout",
     "output_type": "stream",
     "text": [
      "Epoch 3/55  Loss:0.6641140000000001 ,accuracy:0.5482673267326733\n"
     ]
    },
    {
     "name": "stderr",
     "output_type": "stream",
     "text": [
      "  9%|▉         | 5/55 [08:27<1:24:37, 101.56s/it]"
     ]
    },
    {
     "name": "stdout",
     "output_type": "stream",
     "text": [
      "Epoch 4/55  Loss:0.6034349999999999 ,accuracy:0.5886138613861386\n"
     ]
    },
    {
     "name": "stderr",
     "output_type": "stream",
     "text": [
      " 11%|█         | 6/55 [10:08<1:22:58, 101.61s/it]"
     ]
    },
    {
     "name": "stdout",
     "output_type": "stream",
     "text": [
      "Epoch 5/55  Loss:0.5320875 ,accuracy:0.6342079207920792\n"
     ]
    },
    {
     "name": "stderr",
     "output_type": "stream",
     "text": [
      " 13%|█▎        | 7/55 [11:50<1:21:10, 101.47s/it]"
     ]
    },
    {
     "name": "stdout",
     "output_type": "stream",
     "text": [
      "Epoch 6/55  Loss:0.47034099999999995 ,accuracy:0.6736633663366337\n"
     ]
    },
    {
     "name": "stderr",
     "output_type": "stream",
     "text": [
      " 15%|█▍        | 8/55 [13:32<1:19:36, 101.62s/it]"
     ]
    },
    {
     "name": "stdout",
     "output_type": "stream",
     "text": [
      "Epoch 7/55  Loss:0.45711799999999997 ,accuracy:0.6813861386138614\n"
     ]
    },
    {
     "name": "stderr",
     "output_type": "stream",
     "text": [
      " 16%|█▋        | 9/55 [15:13<1:17:49, 101.52s/it]"
     ]
    },
    {
     "name": "stdout",
     "output_type": "stream",
     "text": [
      "Epoch 8/55  Loss:0.4503205000000002 ,accuracy:0.6883168316831683\n"
     ]
    },
    {
     "name": "stderr",
     "output_type": "stream",
     "text": [
      " 18%|█▊        | 10/55 [16:55<1:16:14, 101.65s/it]"
     ]
    },
    {
     "name": "stdout",
     "output_type": "stream",
     "text": [
      "Epoch 9/55  Loss:0.42638999999999994 ,accuracy:0.707079207920792\n"
     ]
    },
    {
     "name": "stderr",
     "output_type": "stream",
     "text": [
      " 20%|██        | 11/55 [18:36<1:14:26, 101.52s/it]"
     ]
    },
    {
     "name": "stdout",
     "output_type": "stream",
     "text": [
      "Epoch 10/55  Loss:0.39685550000000014 ,accuracy:0.7258415841584158\n"
     ]
    },
    {
     "name": "stderr",
     "output_type": "stream",
     "text": [
      " 22%|██▏       | 12/55 [20:18<1:12:49, 101.62s/it]"
     ]
    },
    {
     "name": "stdout",
     "output_type": "stream",
     "text": [
      "Epoch 11/55  Loss:0.3799985 ,accuracy:0.7380693069306931\n"
     ]
    },
    {
     "name": "stderr",
     "output_type": "stream",
     "text": [
      " 24%|██▎       | 13/55 [21:59<1:11:07, 101.61s/it]"
     ]
    },
    {
     "name": "stdout",
     "output_type": "stream",
     "text": [
      "Epoch 12/55  Loss:0.3607125 ,accuracy:0.7561386138613861\n"
     ]
    },
    {
     "name": "stderr",
     "output_type": "stream",
     "text": [
      " 25%|██▌       | 14/55 [23:41<1:09:24, 101.58s/it]"
     ]
    },
    {
     "name": "stdout",
     "output_type": "stream",
     "text": [
      "Epoch 13/55  Loss:0.31869700000000006 ,accuracy:0.7800495049504951\n"
     ]
    },
    {
     "name": "stderr",
     "output_type": "stream",
     "text": [
      " 27%|██▋       | 15/55 [25:22<1:07:39, 101.49s/it]"
     ]
    },
    {
     "name": "stdout",
     "output_type": "stream",
     "text": [
      "Epoch 14/55  Loss:0.3026965 ,accuracy:0.7894554455445545\n"
     ]
    },
    {
     "name": "stderr",
     "output_type": "stream",
     "text": [
      " 29%|██▉       | 16/55 [27:04<1:06:03, 101.62s/it]"
     ]
    },
    {
     "name": "stdout",
     "output_type": "stream",
     "text": [
      "Epoch 15/55  Loss:0.2984265 ,accuracy:0.7948019801980198\n"
     ]
    },
    {
     "name": "stderr",
     "output_type": "stream",
     "text": [
      " 31%|███       | 17/55 [28:46<1:04:25, 101.71s/it]"
     ]
    },
    {
     "name": "stdout",
     "output_type": "stream",
     "text": [
      "Epoch 16/55  Loss:0.2845830000000001 ,accuracy:0.8035148514851486\n"
     ]
    },
    {
     "name": "stderr",
     "output_type": "stream",
     "text": [
      " 33%|███▎      | 18/55 [30:28<1:02:39, 101.62s/it]"
     ]
    },
    {
     "name": "stdout",
     "output_type": "stream",
     "text": [
      "Epoch 17/55  Loss:0.28020450000000013 ,accuracy:0.8061881188118812\n"
     ]
    },
    {
     "name": "stderr",
     "output_type": "stream",
     "text": [
      " 35%|███▍      | 19/55 [32:10<1:01:03, 101.77s/it]"
     ]
    },
    {
     "name": "stdout",
     "output_type": "stream",
     "text": [
      "Epoch 18/55  Loss:0.2717375000000001 ,accuracy:0.8154455445544554\n"
     ]
    },
    {
     "name": "stderr",
     "output_type": "stream",
     "text": [
      " 36%|███▋      | 20/55 [33:51<59:20, 101.72s/it]  "
     ]
    },
    {
     "name": "stdout",
     "output_type": "stream",
     "text": [
      "Epoch 19/55  Loss:0.24904849999999995 ,accuracy:0.8299504950495049\n"
     ]
    },
    {
     "name": "stderr",
     "output_type": "stream",
     "text": [
      " 38%|███▊      | 21/55 [35:33<57:38, 101.72s/it]"
     ]
    },
    {
     "name": "stdout",
     "output_type": "stream",
     "text": [
      "Epoch 20/55  Loss:0.23612949999999994 ,accuracy:0.8386633663366336\n"
     ]
    },
    {
     "name": "stderr",
     "output_type": "stream",
     "text": [
      " 40%|████      | 22/55 [37:15<56:04, 101.96s/it]"
     ]
    },
    {
     "name": "stdout",
     "output_type": "stream",
     "text": [
      "Epoch 21/55  Loss:0.2278105 ,accuracy:0.8485148514851485\n"
     ]
    },
    {
     "name": "stderr",
     "output_type": "stream",
     "text": [
      " 42%|████▏     | 23/55 [38:58<54:23, 101.98s/it]"
     ]
    },
    {
     "name": "stdout",
     "output_type": "stream",
     "text": [
      "Epoch 22/55  Loss:0.21955 ,accuracy:0.8511386138613861\n"
     ]
    },
    {
     "name": "stderr",
     "output_type": "stream",
     "text": [
      " 44%|████▎     | 24/55 [40:40<52:44, 102.07s/it]"
     ]
    },
    {
     "name": "stdout",
     "output_type": "stream",
     "text": [
      "Epoch 23/55  Loss:0.20749750000000003 ,accuracy:0.8586633663366336\n"
     ]
    },
    {
     "name": "stderr",
     "output_type": "stream",
     "text": [
      " 45%|████▌     | 25/55 [42:22<51:04, 102.15s/it]"
     ]
    },
    {
     "name": "stdout",
     "output_type": "stream",
     "text": [
      "Epoch 24/55  Loss:0.202858 ,accuracy:0.8598514851485148\n"
     ]
    },
    {
     "name": "stderr",
     "output_type": "stream",
     "text": [
      " 47%|████▋     | 26/55 [44:05<49:31, 102.47s/it]"
     ]
    },
    {
     "name": "stdout",
     "output_type": "stream",
     "text": [
      "Epoch 25/55  Loss:0.19686350000000008 ,accuracy:0.8638613861386139\n"
     ]
    },
    {
     "name": "stderr",
     "output_type": "stream",
     "text": [
      " 49%|████▉     | 27/55 [45:47<47:43, 102.26s/it]"
     ]
    },
    {
     "name": "stdout",
     "output_type": "stream",
     "text": [
      "Epoch 26/55  Loss:0.17057150000000004 ,accuracy:0.8813366336633663\n"
     ]
    },
    {
     "name": "stderr",
     "output_type": "stream",
     "text": [
      " 51%|█████     | 28/55 [47:29<46:00, 102.26s/it]"
     ]
    },
    {
     "name": "stdout",
     "output_type": "stream",
     "text": [
      "Epoch 27/55  Loss:0.17037000000000005 ,accuracy:0.8813861386138614\n"
     ]
    },
    {
     "name": "stderr",
     "output_type": "stream",
     "text": [
      " 53%|█████▎    | 29/55 [49:12<44:23, 102.44s/it]"
     ]
    },
    {
     "name": "stdout",
     "output_type": "stream",
     "text": [
      "Epoch 28/55  Loss:0.16232049999999995 ,accuracy:0.8866831683168317\n"
     ]
    },
    {
     "name": "stderr",
     "output_type": "stream",
     "text": [
      " 55%|█████▍    | 30/55 [50:55<42:42, 102.49s/it]"
     ]
    },
    {
     "name": "stdout",
     "output_type": "stream",
     "text": [
      "Epoch 29/55  Loss:0.1489425 ,accuracy:0.8968811881188119\n"
     ]
    },
    {
     "name": "stderr",
     "output_type": "stream",
     "text": [
      " 56%|█████▋    | 31/55 [52:37<40:58, 102.43s/it]"
     ]
    },
    {
     "name": "stdout",
     "output_type": "stream",
     "text": [
      "Epoch 30/55  Loss:0.13871700000000003 ,accuracy:0.9053465346534654\n"
     ]
    },
    {
     "name": "stderr",
     "output_type": "stream",
     "text": [
      " 58%|█████▊    | 32/55 [54:19<39:15, 102.40s/it]"
     ]
    },
    {
     "name": "stdout",
     "output_type": "stream",
     "text": [
      "Epoch 31/55  Loss:0.14268750000000002 ,accuracy:0.9011881188118812\n"
     ]
    },
    {
     "name": "stderr",
     "output_type": "stream",
     "text": [
      " 60%|██████    | 33/55 [56:02<37:34, 102.48s/it]"
     ]
    },
    {
     "name": "stdout",
     "output_type": "stream",
     "text": [
      "Epoch 32/55  Loss:0.13958399999999999 ,accuracy:0.901930693069307\n"
     ]
    },
    {
     "name": "stderr",
     "output_type": "stream",
     "text": [
      " 62%|██████▏   | 34/55 [57:45<35:54, 102.58s/it]"
     ]
    },
    {
     "name": "stdout",
     "output_type": "stream",
     "text": [
      "Epoch 33/55  Loss:0.12084699999999997 ,accuracy:0.915990099009901\n"
     ]
    },
    {
     "name": "stderr",
     "output_type": "stream",
     "text": [
      " 64%|██████▎   | 35/55 [59:28<34:12, 102.64s/it]"
     ]
    },
    {
     "name": "stdout",
     "output_type": "stream",
     "text": [
      "Epoch 34/55  Loss:0.11803149999999998 ,accuracy:0.9182673267326733\n"
     ]
    },
    {
     "name": "stderr",
     "output_type": "stream",
     "text": [
      " 65%|██████▌   | 36/55 [1:01:10<32:30, 102.64s/it]"
     ]
    },
    {
     "name": "stdout",
     "output_type": "stream",
     "text": [
      "Epoch 35/55  Loss:0.11435750000000003 ,accuracy:0.921980198019802\n"
     ]
    },
    {
     "name": "stderr",
     "output_type": "stream",
     "text": [
      " 67%|██████▋   | 37/55 [1:02:53<30:49, 102.74s/it]"
     ]
    },
    {
     "name": "stdout",
     "output_type": "stream",
     "text": [
      "Epoch 36/55  Loss:0.10547100000000002 ,accuracy:0.9257920792079208\n"
     ]
    },
    {
     "name": "stderr",
     "output_type": "stream",
     "text": [
      " 69%|██████▉   | 38/55 [1:04:37<29:09, 102.92s/it]"
     ]
    },
    {
     "name": "stdout",
     "output_type": "stream",
     "text": [
      "Epoch 37/55  Loss:0.10843150000000001 ,accuracy:0.9244059405940594\n"
     ]
    },
    {
     "name": "stderr",
     "output_type": "stream",
     "text": [
      " 71%|███████   | 39/55 [1:06:20<27:30, 103.14s/it]"
     ]
    },
    {
     "name": "stdout",
     "output_type": "stream",
     "text": [
      "Epoch 38/55  Loss:0.10676400000000001 ,accuracy:0.9271287128712872\n"
     ]
    },
    {
     "name": "stderr",
     "output_type": "stream",
     "text": [
      " 73%|███████▎  | 40/55 [1:08:04<25:50, 103.34s/it]"
     ]
    },
    {
     "name": "stdout",
     "output_type": "stream",
     "text": [
      "Epoch 39/55  Loss:0.09495150000000001 ,accuracy:0.9356930693069307\n"
     ]
    },
    {
     "name": "stderr",
     "output_type": "stream",
     "text": [
      " 75%|███████▍  | 41/55 [1:09:48<24:07, 103.38s/it]"
     ]
    },
    {
     "name": "stdout",
     "output_type": "stream",
     "text": [
      "Epoch 40/55  Loss:0.09853400000000001 ,accuracy:0.9300990099009901\n"
     ]
    },
    {
     "name": "stderr",
     "output_type": "stream",
     "text": [
      " 76%|███████▋  | 42/55 [1:11:31<22:24, 103.45s/it]"
     ]
    },
    {
     "name": "stdout",
     "output_type": "stream",
     "text": [
      "Epoch 41/55  Loss:0.10924500000000002 ,accuracy:0.9248019801980198\n"
     ]
    },
    {
     "name": "stderr",
     "output_type": "stream",
     "text": [
      " 78%|███████▊  | 43/55 [1:13:16<20:45, 103.76s/it]"
     ]
    },
    {
     "name": "stdout",
     "output_type": "stream",
     "text": [
      "Epoch 42/55  Loss:0.101325 ,accuracy:0.9296039603960397\n"
     ]
    },
    {
     "name": "stderr",
     "output_type": "stream",
     "text": [
      " 80%|████████  | 44/55 [1:15:00<19:02, 103.91s/it]"
     ]
    },
    {
     "name": "stdout",
     "output_type": "stream",
     "text": [
      "Epoch 43/55  Loss:0.10106649999999999 ,accuracy:0.9308415841584159\n"
     ]
    },
    {
     "name": "stderr",
     "output_type": "stream",
     "text": [
      " 82%|████████▏ | 45/55 [1:16:44<17:19, 103.91s/it]"
     ]
    },
    {
     "name": "stdout",
     "output_type": "stream",
     "text": [
      "Epoch 44/55  Loss:0.07670499999999998 ,accuracy:0.9466831683168316\n"
     ]
    },
    {
     "name": "stderr",
     "output_type": "stream",
     "text": [
      " 84%|████████▎ | 46/55 [1:18:28<15:35, 103.99s/it]"
     ]
    },
    {
     "name": "stdout",
     "output_type": "stream",
     "text": [
      "Epoch 45/55  Loss:0.0775865 ,accuracy:0.9471287128712871\n"
     ]
    },
    {
     "name": "stderr",
     "output_type": "stream",
     "text": [
      " 85%|████████▌ | 47/55 [1:20:12<13:52, 104.04s/it]"
     ]
    },
    {
     "name": "stdout",
     "output_type": "stream",
     "text": [
      "Epoch 46/55  Loss:0.07112000000000003 ,accuracy:0.9512376237623762\n"
     ]
    },
    {
     "name": "stderr",
     "output_type": "stream",
     "text": [
      " 87%|████████▋ | 48/55 [1:21:57<12:09, 104.24s/it]"
     ]
    },
    {
     "name": "stdout",
     "output_type": "stream",
     "text": [
      "Epoch 47/55  Loss:0.08510349999999998 ,accuracy:0.940049504950495\n"
     ]
    },
    {
     "name": "stderr",
     "output_type": "stream",
     "text": [
      " 89%|████████▉ | 49/55 [1:23:42<10:26, 104.38s/it]"
     ]
    },
    {
     "name": "stdout",
     "output_type": "stream",
     "text": [
      "Epoch 48/55  Loss:0.07092700000000005 ,accuracy:0.9496039603960396\n"
     ]
    },
    {
     "name": "stderr",
     "output_type": "stream",
     "text": [
      " 91%|█████████ | 50/55 [1:25:26<08:42, 104.43s/it]"
     ]
    },
    {
     "name": "stdout",
     "output_type": "stream",
     "text": [
      "Epoch 49/55  Loss:0.06295249999999998 ,accuracy:0.958019801980198\n"
     ]
    },
    {
     "name": "stderr",
     "output_type": "stream",
     "text": [
      " 93%|█████████▎| 51/55 [1:27:11<06:58, 104.68s/it]"
     ]
    },
    {
     "name": "stdout",
     "output_type": "stream",
     "text": [
      "Epoch 50/55  Loss:0.06025899999999998 ,accuracy:0.9583168316831683\n"
     ]
    },
    {
     "name": "stderr",
     "output_type": "stream",
     "text": [
      " 95%|█████████▍| 52/55 [1:28:56<05:14, 104.69s/it]"
     ]
    },
    {
     "name": "stdout",
     "output_type": "stream",
     "text": [
      "Epoch 51/55  Loss:0.06395100000000004 ,accuracy:0.9545544554455445\n"
     ]
    },
    {
     "name": "stderr",
     "output_type": "stream",
     "text": [
      " 96%|█████████▋| 53/55 [1:30:41<03:29, 104.75s/it]"
     ]
    },
    {
     "name": "stdout",
     "output_type": "stream",
     "text": [
      "Epoch 52/55  Loss:0.0614275 ,accuracy:0.958069306930693\n"
     ]
    },
    {
     "name": "stderr",
     "output_type": "stream",
     "text": [
      " 98%|█████████▊| 54/55 [1:32:25<01:44, 104.64s/it]"
     ]
    },
    {
     "name": "stdout",
     "output_type": "stream",
     "text": [
      "Epoch 53/55  Loss:0.04560200000000001 ,accuracy:0.9673762376237623\n"
     ]
    },
    {
     "name": "stderr",
     "output_type": "stream",
     "text": [
      "100%|██████████| 55/55 [1:34:11<00:00, 102.75s/it]"
     ]
    },
    {
     "name": "stdout",
     "output_type": "stream",
     "text": [
      "Epoch 54/55  Loss:0.0407055 ,accuracy:0.972029702970297\n"
     ]
    },
    {
     "name": "stderr",
     "output_type": "stream",
     "text": [
      "\n"
     ]
    }
   ],
   "source": [
    "print('------------------train------------------------')\n",
    "train_model(3,trainloader,Falcon(\"semi-honest\"))"
   ]
  },
  {
   "cell_type": "code",
   "execution_count": 4,
   "id": "372c857f-3beb-47e4-b13d-732a2d9fab63",
   "metadata": {},
   "outputs": [
    {
     "name": "stdout",
     "output_type": "stream",
     "text": [
      "------------------test------------------------\n",
      "[<VirtualMachineClient: worker0 Client>, <VirtualMachineClient: worker1 Client>, <VirtualMachineClient: worker2 Client>]\n"
     ]
    },
    {
     "name": "stderr",
     "output_type": "stream",
     "text": [
      "100%|██████████| 1/1 [00:52<00:00, 52.03s/it]"
     ]
    },
    {
     "name": "stdout",
     "output_type": "stream",
     "text": [
      "test accuracy:0.8128\n"
     ]
    },
    {
     "name": "stderr",
     "output_type": "stream",
     "text": [
      "\n"
     ]
    }
   ],
   "source": [
    "print('------------------test------------------------')\n",
    "test_model(3,testloader,Falcon(\"semi-honest\"))"
   ]
  },
  {
   "cell_type": "raw",
   "id": "cd9d72b1-2b53-431f-ad31-ab587136c692",
   "metadata": {},
   "source": []
  }
 ],
 "metadata": {
  "kernelspec": {
   "display_name": "Python 3 (ipykernel)",
   "language": "python",
   "name": "python3"
  },
  "language_info": {
   "codemirror_mode": {
    "name": "ipython",
    "version": 3
   },
   "file_extension": ".py",
   "mimetype": "text/x-python",
   "name": "python",
   "nbconvert_exporter": "python",
   "pygments_lexer": "ipython3",
   "version": "3.8.8"
  }
 },
 "nbformat": 4,
 "nbformat_minor": 5
}
